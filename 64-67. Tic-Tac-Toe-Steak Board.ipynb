{
 "cells": [
  {
   "cell_type": "code",
   "execution_count": 1,
   "metadata": {},
   "outputs": [],
   "source": [
    "row1 = ['r1c1','r1c2','r1c3']\n",
    "row2 = ['r2c1','r2c2','r2c3']\n",
    "row3 = ['r3c1','r2c2','r3c3']"
   ]
  },
  {
   "cell_type": "code",
   "execution_count": 2,
   "metadata": {},
   "outputs": [],
   "source": [
    "def print_board():\n",
    "    print(row1)\n",
    "    print(row2)\n",
    "    print(row3)"
   ]
  },
  {
   "cell_type": "code",
   "execution_count": 3,
   "metadata": {},
   "outputs": [],
   "source": [
    "def win_condition():\n",
    "    if row1[0] == 'X' and row2[0] == 'X' and row3[0] == 'X':\n",
    "        return True\n"
   ]
  },
  {
   "cell_type": "code",
   "execution_count": 4,
   "metadata": {},
   "outputs": [],
   "source": [
    "\n",
    "\n",
    "\n",
    "    \n",
    "def main_game():\n",
    "    \n",
    "    cracker = 0\n",
    "    spagetti = 0\n",
    "    bagel = 1\n",
    "    \n",
    "    while cracker == 0:\n",
    "        \n",
    "    \n",
    "        activation = input('Would you like to play Tic-Tac-Toe? Input Y or N.').upper()\n",
    "\n",
    "        if activation == 'Y':\n",
    "            print('Yay!')\n",
    "            pickle = 0\n",
    "\n",
    "            while pickle == 0: \n",
    "                \n",
    "                if win_condition() == True:\n",
    "                        \n",
    "                    pickle = 1\n",
    "                        \n",
    "                    break\n",
    "                else:\n",
    "                \n",
    "\n",
    "                    while spagetti == 0 and bagel == 1:\n",
    "                    \n",
    "                    \n",
    "                    \n",
    "                    \n",
    "                        print(\"It is now Player 1's turn. They are 'X'.\")\n",
    "                        print_board()\n",
    "\n",
    "                        row_edit = input(\"Which row would you like to edit? Enter 1, 2, or 3.\")\n",
    "                        if row_edit.isdigit() == True:\n",
    "                            row_edit = int(row_edit)\n",
    "\n",
    "                            column_edit = input(\"Which column would you like to edit? Enter 1, 2, or 3.\")\n",
    "                            if column_edit.isdigit() == True:\n",
    "                                column_edit = int(column_edit)\n",
    "\n",
    "                                if row_edit == 1:\n",
    "                                    if row1[column_edit-1] == 'X':\n",
    "                                        print('Value already filled.')\n",
    "                                    elif row1[column_edit-1] == 'O':\n",
    "                                        print('Value already filled.')\n",
    "                                    else:\n",
    "                                        row1[column_edit-1] = 'X'\n",
    "                                        print_board()\n",
    "                                        spagetti = 1\n",
    "                                        bagel = 0\n",
    "                                if row_edit == 2:\n",
    "                                    if row2[column_edit-1] == 'X':\n",
    "                                        print('Value already filled.')\n",
    "                                    elif row2[column_edit-1] == 'O':\n",
    "                                        print('Value already filled.')\n",
    "                                    else:\n",
    "                                        row2[column_edit-1] = 'X'\n",
    "                                        print_board()\n",
    "                                        spagetti = 1\n",
    "                                        bagel = 0\n",
    "                                if row_edit == 3:\n",
    "                                    if row3[column_edit-1] == 'X':\n",
    "                                        print('Value already filled.')\n",
    "                                    elif row3[column_edit-1] == 'O':\n",
    "                                        print('Value already filled.')\n",
    "                                    else:\n",
    "                                        row3[column_edit-1] = 'X'\n",
    "                                        print_board()\n",
    "                                        spagetti = 1\n",
    "                                        bagel = 0\n",
    "\n",
    "\n",
    "\n",
    "                                #else:\n",
    "                                    #print('Sorry, that is not an option. Please only enter 1, 2, or 3.')\n",
    "                            else:\n",
    "                                print('Sorry, please re-enter your inputs.')\n",
    "                        else:\n",
    "                            print('Sorry, that is not an option. Please only enter 1, 2, or 3.')      \n",
    "\n",
    "                    while bagel == 0 and spagetti == 1:\n",
    "                    \n",
    "                    \n",
    "\n",
    "                    \n",
    "                        print(\"It is now Player 2's turn. They are 'O'.\")\n",
    "                        print_board()\n",
    "\n",
    "                        row_edit = input(\"Which row would you like to edit? Enter 1, 2, or 3.\")\n",
    "                        if row_edit.isdigit() == True:\n",
    "                            row_edit = int(row_edit)\n",
    "\n",
    "                            column_edit = input(\"Which column would you like to edit? Enter 1, 2, or 3.\")\n",
    "                            if column_edit.isdigit() == True:\n",
    "                                column_edit = int(column_edit)\n",
    "\n",
    "                                if row_edit == 1:\n",
    "                                    if row1[column_edit-1] == 'X':\n",
    "                                        print('Value already filled.')\n",
    "                                    elif row1[column_edit-1] == 'O':\n",
    "                                        print('Value already filled.')\n",
    "                                    else:\n",
    "                                        row1[column_edit-1] = 'O'\n",
    "                                        print_board()\n",
    "                                        spagetti = 0\n",
    "                                        bagel = 1\n",
    "                                if row_edit == 2:\n",
    "                                    if row2[column_edit-1] == 'X':\n",
    "                                        print('Value already filled.')\n",
    "                                    elif row2[column_edit-1] == 'O':\n",
    "                                        print('Value already filled.')\n",
    "                                    else:\n",
    "                                        row2[column_edit-1] = 'O'\n",
    "                                        print_board()\n",
    "                                        spagetti = 0\n",
    "                                        bagel = 1\n",
    "                                if row_edit == 3:\n",
    "                                    if row3[column_edit-1] == 'X':\n",
    "                                        print('Value already filled.')\n",
    "                                    elif row3[column_edit-1] == 'O':\n",
    "                                        print('Value already filled.')\n",
    "                                    else:\n",
    "                                        row3[column_edit-1] = 'O'\n",
    "                                        print_board()\n",
    "                                        spagetti = 0\n",
    "                                        bagel = 1\n",
    "\n",
    "                                \n",
    "\n",
    "                                #else:\n",
    "                                    #print('Sorry, that is not an option. Please only enter 1, 2, or 3.')\n",
    "                            else:\n",
    "                                print('Sorry, please re-enter your inputs.')\n",
    "                        else:\n",
    "                            print('Sorry, that is not an option. Please only enter 1, 2, or 3.') \n",
    "\n",
    "        if activation == 'N':\n",
    "            print('See you later.')\n",
    "            break\n",
    "    \n",
    "    \n",
    "        else:\n",
    "            print('Sorry, we did not get that. Please enter Y or N.')\n",
    "    \n",
    "    print('We have a winner.')"
   ]
  },
  {
   "cell_type": "code",
   "execution_count": null,
   "metadata": {},
   "outputs": [
    {
     "name": "stdout",
     "output_type": "stream",
     "text": [
      "Would you like to play Tic-Tac-Toe? Input Y or N.y\n",
      "Yay!\n",
      "It is now Player 1's turn. They are 'X'.\n",
      "['X', 'r1c2', 'r1c3']\n",
      "['r2c1', 'r2c2', 'r2c3']\n",
      "['O', 'r2c2', 'r3c3']\n"
     ]
    }
   ],
   "source": [
    "main_game()"
   ]
  },
  {
   "cell_type": "code",
   "execution_count": null,
   "metadata": {
    "collapsed": true
   },
   "outputs": [],
   "source": []
  },
  {
   "cell_type": "code",
   "execution_count": null,
   "metadata": {
    "collapsed": true
   },
   "outputs": [],
   "source": []
  },
  {
   "cell_type": "code",
   "execution_count": null,
   "metadata": {
    "collapsed": true
   },
   "outputs": [],
   "source": []
  },
  {
   "cell_type": "code",
   "execution_count": null,
   "metadata": {
    "collapsed": true
   },
   "outputs": [],
   "source": []
  },
  {
   "cell_type": "code",
   "execution_count": null,
   "metadata": {
    "collapsed": true
   },
   "outputs": [],
   "source": []
  },
  {
   "cell_type": "code",
   "execution_count": null,
   "metadata": {
    "collapsed": true
   },
   "outputs": [],
   "source": []
  },
  {
   "cell_type": "code",
   "execution_count": null,
   "metadata": {
    "collapsed": true
   },
   "outputs": [],
   "source": []
  },
  {
   "cell_type": "code",
   "execution_count": null,
   "metadata": {
    "collapsed": true
   },
   "outputs": [],
   "source": []
  },
  {
   "cell_type": "code",
   "execution_count": null,
   "metadata": {
    "collapsed": true
   },
   "outputs": [],
   "source": []
  }
 ],
 "metadata": {
  "kernelspec": {
   "display_name": "Python 3 (ipykernel)",
   "language": "python",
   "name": "python3"
  },
  "language_info": {
   "codemirror_mode": {
    "name": "ipython",
    "version": 3
   },
   "file_extension": ".py",
   "mimetype": "text/x-python",
   "name": "python",
   "nbconvert_exporter": "python",
   "pygments_lexer": "ipython3",
   "version": "3.11.3"
  }
 },
 "nbformat": 4,
 "nbformat_minor": 2
}
