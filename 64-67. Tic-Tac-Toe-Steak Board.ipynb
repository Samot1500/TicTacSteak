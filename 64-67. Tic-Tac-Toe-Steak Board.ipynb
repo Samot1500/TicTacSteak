{
 "cells": [
  {
   "cell_type": "code",
   "execution_count": 1,
   "metadata": {
    "collapsed": true
   },
   "outputs": [],
   "source": [
    "row1 = ['r1c1','r1c2','r1c3']\n",
    "row2 = ['r2c1','r2c2','r2c3']\n",
    "row3 = ['r3c1','r2c2','r3c3']"
   ]
  },
  {
   "cell_type": "code",
   "execution_count": 2,
   "metadata": {
    "collapsed": true
   },
   "outputs": [],
   "source": [
    "def print_board():\n",
    "    print(row1)\n",
    "    print(row2)\n",
    "    print(row3)"
   ]
  },
  {
   "cell_type": "code",
   "execution_count": 3,
   "metadata": {},
   "outputs": [],
   "source": [
    "def win_condition():\n",
    "    if(winner_found(win_vert())):\n",
    "        return True\n",
    "    if(winner_found(win_hori())):\n",
    "        return True\n",
    "    if(winner_found(win_diag())):\n",
    "        return True\n",
    "    return False\n",
    "\n",
    "def win_vert():\n",
    "    for col in range(2):\n",
    "        if(win([row1[col], row2[col], row3[col]])):\n",
    "            return row1[col]\n",
    "    return \"No Winner\"\n",
    "\n",
    "def win_hori():\n",
    "    if(win([row1[0], row1[1], row1[2]])):\n",
    "            return row1[0]\n",
    "    if(win([row2[0], row2[1], row2[2]])):\n",
    "            return row2[0]\n",
    "    if(win([row3[0], row3[1], row3[2]])):\n",
    "            return row3[0]\n",
    "    return \"No Winner\"\n",
    "\n",
    "def win_diag():\n",
    "    if(win([row1[0], row2[1], row3[2]])):\n",
    "            return row1[0]\n",
    "    if(win([row1[2], row2[1], row3[0]])):\n",
    "            return row1[0]\n",
    "    return \"No Winner\"\n",
    "\n",
    "def win(list):\n",
    "    for cel in list:\n",
    "        if (cel != list[0]):\n",
    "            return False\n",
    "    return True\n",
    "\n",
    "def winner_found(player):\n",
    "    if player != \"No Winner\":\n",
    "        print('We have a winner!!')\n",
    "        print(f'Congratulations to {player}!!')\n",
    "        return True\n",
    "    return False\n",
    "    \n"
   ]
  },
  {
   "cell_type": "code",
   "execution_count": 4,
   "metadata": {},
   "outputs": [],
   "source": [
    "def main_game():\n",
    "    \n",
    "    cracker = 0\n",
    "    \n",
    "    while cracker == 0:\n",
    "    \n",
    "        activation = input('Would you like to play Tic-Tac-Toe? Input Y or N.').upper()\n",
    "\n",
    "        if activation == 'Y':\n",
    "            print('Yay!')\n",
    "            completed = False\n",
    "\n",
    "            while completed == False:\n",
    "                if(completed == False):\n",
    "                    player_turn(1) \n",
    "                completed = win_condition()\n",
    "                if (completed == False):\n",
    "                    player_turn(2) \n",
    "                completed = win_condition()      \n",
    "        elif activation == 'N':\n",
    "            print('See you later.')\n",
    "            break\n",
    "        else:\n",
    "            print('Sorry, we did not get that. Please enter Y or N.')\n",
    "\n",
    "        \n",
    "def player_turn(player):\n",
    "    while True:\n",
    "        if (player == 1):\n",
    "            token = 'X'\n",
    "            other_token = 'O'\n",
    "        else: \n",
    "            token = 'O'\n",
    "            other_token = 'X'\n",
    "            \n",
    "        \n",
    "        print(f\"It is now Player {player}'s turn. They are '{token}'.\")\n",
    "        print_board()\n",
    "\n",
    "        row_edit = input(\"Which row would you like to edit? Enter 1, 2, or 3.\")\n",
    "        if row_edit.isdigit() == True:\n",
    "            row_edit = int(row_edit)\n",
    "\n",
    "            column_edit = input(\"Which column would you like to edit? Enter 1, 2, or 3.\")\n",
    "            if column_edit.isdigit() == True:\n",
    "                column_edit = int(column_edit)\n",
    "\n",
    "                if row_edit == 1:\n",
    "                    if row1[column_edit-1] == token:\n",
    "                        print('Value already filled.')\n",
    "                    elif row1[column_edit-1] == other_token:\n",
    "                        print('Value already filled.')\n",
    "                    else:\n",
    "                        row1[column_edit-1] = token\n",
    "                        print_board()\n",
    "                        return\n",
    "                elif row_edit == 2:\n",
    "                    if row2[column_edit-1] == token:\n",
    "                        print('Value already filled.')\n",
    "                    elif row2[column_edit-1] == other_token:\n",
    "                        print('Value already filled.')\n",
    "                    else:\n",
    "                        row2[column_edit-1] = token\n",
    "                        print_board()\n",
    "                        return\n",
    "                elif row_edit == 3:\n",
    "                    if row3[column_edit-1] == token:\n",
    "                        print('Value already filled.')\n",
    "                    elif row3[column_edit-1] == other_token:\n",
    "                        print('Value already filled.')\n",
    "                    else:\n",
    "                        row3[column_edit-1] = token\n",
    "                        print_board()\n",
    "                        return\n",
    "                else:\n",
    "                    print('Sorry, that is not an option. Please only enter 1, 2, or 3.')\n",
    "            else:\n",
    "                print('Sorry, please re-enter your inputs.')\n",
    "        else:\n",
    "            print('Sorry, that is not an option. Please only enter 1, 2, or 3.')\n"
   ]
  },
  {
   "cell_type": "code",
   "execution_count": 5,
   "metadata": {},
   "outputs": [
    {
     "name": "stdout",
     "output_type": "stream",
     "text": [
      "Sorry, we did not get that. Please enter Y or N.\n",
      "Yay!\n",
      "It is now Player 1's turn. They are 'X'.\n",
      "['r1c1', 'r1c2', 'r1c3']\n",
      "['r2c1', 'r2c2', 'r2c3']\n",
      "['r3c1', 'r2c2', 'r3c3']\n",
      "Sorry, that is not an option. Please only enter 1, 2, or 3.\n",
      "It is now Player 1's turn. They are 'X'.\n",
      "['r1c1', 'r1c2', 'r1c3']\n",
      "['r2c1', 'r2c2', 'r2c3']\n",
      "['r3c1', 'r2c2', 'r3c3']\n",
      "['X', 'r1c2', 'r1c3']\n",
      "['r2c1', 'r2c2', 'r2c3']\n",
      "['r3c1', 'r2c2', 'r3c3']\n",
      "It is now Player 2's turn. They are 'O'.\n",
      "['X', 'r1c2', 'r1c3']\n",
      "['r2c1', 'r2c2', 'r2c3']\n",
      "['r3c1', 'r2c2', 'r3c3']\n",
      "Value already filled.\n",
      "It is now Player 2's turn. They are 'O'.\n",
      "['X', 'r1c2', 'r1c3']\n",
      "['r2c1', 'r2c2', 'r2c3']\n",
      "['r3c1', 'r2c2', 'r3c3']\n",
      "['X', 'r1c2', 'r1c3']\n",
      "['O', 'r2c2', 'r2c3']\n",
      "['r3c1', 'r2c2', 'r3c3']\n",
      "It is now Player 1's turn. They are 'X'.\n",
      "['X', 'r1c2', 'r1c3']\n",
      "['O', 'r2c2', 'r2c3']\n",
      "['r3c1', 'r2c2', 'r3c3']\n",
      "Value already filled.\n",
      "It is now Player 1's turn. They are 'X'.\n",
      "['X', 'r1c2', 'r1c3']\n",
      "['O', 'r2c2', 'r2c3']\n",
      "['r3c1', 'r2c2', 'r3c3']\n",
      "['X', 'r1c2', 'r1c3']\n",
      "['O', 'X', 'r2c3']\n",
      "['r3c1', 'r2c2', 'r3c3']\n",
      "It is now Player 2's turn. They are 'O'.\n",
      "['X', 'r1c2', 'r1c3']\n",
      "['O', 'X', 'r2c3']\n",
      "['r3c1', 'r2c2', 'r3c3']\n",
      "['X', 'r1c2', 'r1c3']\n",
      "['O', 'X', 'O']\n",
      "['r3c1', 'r2c2', 'r3c3']\n",
      "It is now Player 1's turn. They are 'X'.\n",
      "['X', 'r1c2', 'r1c3']\n",
      "['O', 'X', 'O']\n",
      "['r3c1', 'r2c2', 'r3c3']\n",
      "['X', 'r1c2', 'X']\n",
      "['O', 'X', 'O']\n",
      "['r3c1', 'r2c2', 'r3c3']\n",
      "It is now Player 2's turn. They are 'O'.\n",
      "['X', 'r1c2', 'X']\n",
      "['O', 'X', 'O']\n",
      "['r3c1', 'r2c2', 'r3c3']\n",
      "Value already filled.\n",
      "It is now Player 2's turn. They are 'O'.\n",
      "['X', 'r1c2', 'X']\n",
      "['O', 'X', 'O']\n",
      "['r3c1', 'r2c2', 'r3c3']\n",
      "Value already filled.\n",
      "It is now Player 2's turn. They are 'O'.\n",
      "['X', 'r1c2', 'X']\n",
      "['O', 'X', 'O']\n",
      "['r3c1', 'r2c2', 'r3c3']\n",
      "Value already filled.\n",
      "It is now Player 2's turn. They are 'O'.\n",
      "['X', 'r1c2', 'X']\n",
      "['O', 'X', 'O']\n",
      "['r3c1', 'r2c2', 'r3c3']\n",
      "['X', 'r1c2', 'X']\n",
      "['O', 'X', 'O']\n",
      "['O', 'r2c2', 'r3c3']\n",
      "It is now Player 1's turn. They are 'X'.\n",
      "['X', 'r1c2', 'X']\n",
      "['O', 'X', 'O']\n",
      "['O', 'r2c2', 'r3c3']\n",
      "Value already filled.\n",
      "It is now Player 1's turn. They are 'X'.\n",
      "['X', 'r1c2', 'X']\n",
      "['O', 'X', 'O']\n",
      "['O', 'r2c2', 'r3c3']\n",
      "['X', 'r1c2', 'X']\n",
      "['O', 'X', 'O']\n",
      "['O', 'r2c2', 'X']\n",
      "We have a winner!!\n",
      "Congratulations to X!!\n",
      "We have a winner!!\n",
      "Congratulations to X!!\n"
     ]
    }
   ],
   "source": [
    "main_game()"
   ]
  },
  {
   "cell_type": "code",
   "execution_count": null,
   "metadata": {
    "collapsed": true
   },
   "outputs": [],
   "source": []
  },
  {
   "cell_type": "code",
   "execution_count": null,
   "metadata": {
    "collapsed": true
   },
   "outputs": [],
   "source": []
  },
  {
   "cell_type": "code",
   "execution_count": null,
   "metadata": {
    "collapsed": true
   },
   "outputs": [],
   "source": []
  },
  {
   "cell_type": "code",
   "execution_count": null,
   "metadata": {
    "collapsed": true
   },
   "outputs": [],
   "source": []
  },
  {
   "cell_type": "code",
   "execution_count": null,
   "metadata": {
    "collapsed": true
   },
   "outputs": [],
   "source": []
  },
  {
   "cell_type": "code",
   "execution_count": null,
   "metadata": {
    "collapsed": true
   },
   "outputs": [],
   "source": []
  },
  {
   "cell_type": "code",
   "execution_count": null,
   "metadata": {
    "collapsed": true
   },
   "outputs": [],
   "source": []
  },
  {
   "cell_type": "code",
   "execution_count": null,
   "metadata": {
    "collapsed": true
   },
   "outputs": [],
   "source": []
  },
  {
   "cell_type": "code",
   "execution_count": null,
   "metadata": {
    "collapsed": true
   },
   "outputs": [],
   "source": []
  }
 ],
 "metadata": {
  "kernelspec": {
   "display_name": "Python 3 (ipykernel)",
   "language": "python",
   "name": "python3"
  },
  "language_info": {
   "codemirror_mode": {
    "name": "ipython",
    "version": 3
   },
   "file_extension": ".py",
   "mimetype": "text/x-python",
   "name": "python",
   "nbconvert_exporter": "python",
   "pygments_lexer": "ipython3",
   "version": "3.11.3"
  }
 },
 "nbformat": 4,
 "nbformat_minor": 2
}
