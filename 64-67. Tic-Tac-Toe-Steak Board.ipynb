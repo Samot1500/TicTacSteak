{
 "cells": [
  {
   "cell_type": "code",
   "execution_count": 19,
   "metadata": {
    "collapsed": true
   },
   "outputs": [],
   "source": [
    "row1 = ['r1c1','r1c2','r1c3']\n",
    "row2 = ['r2c1','r2c2','r2c3']\n",
    "row3 = ['r3c1','r2c2','r3c3']"
   ]
  },
  {
   "cell_type": "code",
   "execution_count": 20,
   "metadata": {
    "collapsed": true
   },
   "outputs": [],
   "source": [
    "def print_board():\n",
    "    print(row1)\n",
    "    print(row2)\n",
    "    print(row3)"
   ]
  },
  {
   "cell_type": "code",
   "execution_count": 21,
   "metadata": {},
   "outputs": [],
   "source": [
    "def win_condition():\n",
    "    if row1[0] == 'X' and row2[0] == 'X' and row3[0] == 'X':\n",
    "        print('We have a winner!!')\n",
    "        spagetti = 1\n",
    "        bagel = 1\n",
    "        pickle = 1\n",
    "        cracker = 1\n"
   ]
  },
  {
   "cell_type": "code",
   "execution_count": 22,
   "metadata": {},
   "outputs": [],
   "source": [
    "def main_game():\n",
    "    \n",
    "    cracker = 0\n",
    "    \n",
    "    while cracker == 0:\n",
    "    \n",
    "        activation = input('Would you like to play Tic-Tac-Toe? Input Y or N.').upper()\n",
    "\n",
    "        if activation == 'Y':\n",
    "            print('Yay!')\n",
    "            pickle = 0\n",
    "\n",
    "            while pickle == 0:\n",
    "\n",
    "                spagetti = 0\n",
    "                bagel = 0\n",
    "                \n",
    "                win_condition()\n",
    "\n",
    "                while spagetti == 0:\n",
    "                    \n",
    "                    print(\"It is now Player 1's turn. They are 'X'.\")\n",
    "                    print_board()\n",
    "\n",
    "                    row_edit = input(\"Which row would you like to edit? Enter 1, 2, or 3.\")\n",
    "                    if row_edit.isdigit() == True:\n",
    "                        row_edit = int(row_edit)\n",
    "\n",
    "                        column_edit = input(\"Which column would you like to edit? Enter 1, 2, or 3.\")\n",
    "                        if column_edit.isdigit() == True:\n",
    "                            column_edit = int(column_edit)\n",
    "\n",
    "                            if row_edit == 1:\n",
    "                                if row1[column_edit-1] == 'X':\n",
    "                                    print('Value already filled.')\n",
    "                                elif row1[column_edit-1] == 'O':\n",
    "                                    print('Value already filled.')\n",
    "                                else:\n",
    "                                    row1[column_edit-1] = 'X'\n",
    "                                    print_board()\n",
    "                                    spagetti = 1\n",
    "                                    bagel = 0\n",
    "                            if row_edit == 2:\n",
    "                                if row2[column_edit-1] == 'X':\n",
    "                                    print('Value already filled.')\n",
    "                                elif row2[column_edit-1] == 'O':\n",
    "                                    print('Value already filled.')\n",
    "                                else:\n",
    "                                    row2[column_edit-1] = 'X'\n",
    "                                    print_board()\n",
    "                                    spagetti = 1\n",
    "                                    bagel = 0\n",
    "                            if row_edit == 3:\n",
    "                                if row3[column_edit-1] == 'X':\n",
    "                                    print('Value already filled.')\n",
    "                                elif row3[column_edit-1] == 'O':\n",
    "                                    print('Value already filled.')\n",
    "                                else:\n",
    "                                    row3[column_edit-1] = 'X'\n",
    "                                    print_board()\n",
    "                                    spagetti = 1\n",
    "                                    bagel = 0\n",
    "                            else:\n",
    "                                print('Sorry, that is not an option. Please only enter 1, 2, or 3.')\n",
    "                        else:\n",
    "                            print('Sorry, please re-enter your inputs.')\n",
    "                    else:\n",
    "                        print('Sorry, that is not an option. Please only enter 1, 2, or 3.')      \n",
    "\n",
    "                while bagel == 0:\n",
    "                    \n",
    "                    current_player = 'Player 2'\n",
    "                    \n",
    "                    win_condition()\n",
    "                    \n",
    "                    print(\"It is now Player 2's turn. They are 'O'.\")\n",
    "                    print_board()\n",
    "\n",
    "                    row_edit = input(\"Which row would you like to edit? Enter 1, 2, or 3.\")\n",
    "                    if row_edit.isdigit() == True:\n",
    "                        row_edit = int(row_edit)\n",
    "\n",
    "                        column_edit = input(\"Which column would you like to edit? Enter 1, 2, or 3.\")\n",
    "                        if column_edit.isdigit() == True:\n",
    "                            column_edit = int(column_edit)\n",
    "\n",
    "                            if row_edit == 1:\n",
    "                                if row1[column_edit-1] == 'X':\n",
    "                                    print('Value already filled.')\n",
    "                                elif row1[column_edit-1] == 'O':\n",
    "                                    print('Value already filled.')\n",
    "                                else:\n",
    "                                    row1[column_edit-1] = 'O'\n",
    "                                    print_board()\n",
    "                                    spagetti = 0\n",
    "                                    bagel = 1\n",
    "                            if row_edit == 2:\n",
    "                                if row2[column_edit-1] == 'X':\n",
    "                                    print('Value already filled.')\n",
    "                                elif row2[column_edit-1] == 'O':\n",
    "                                    print('Value already filled.')\n",
    "                                else:\n",
    "                                    row2[column_edit-1] = 'O'\n",
    "                                    print_board()\n",
    "                                    spagetti = 0\n",
    "                                    bagel = 1\n",
    "                            if row_edit == 3:\n",
    "                                if row3[column_edit-1] == 'X':\n",
    "                                    print('Value already filled.')\n",
    "                                elif row3[column_edit-1] == 'O':\n",
    "                                    print('Value already filled.')\n",
    "                                else:\n",
    "                                    row3[column_edit-1] = 'O'\n",
    "                                    print_board()\n",
    "                                    spagetti = 0\n",
    "                                    bagel = 1\n",
    "                            else:\n",
    "                                print('Sorry, that is not an option. Please only enter 1, 2, or 3.')\n",
    "                        else:\n",
    "                            print('Sorry, please re-enter your inputs.')\n",
    "                    else:\n",
    "                        print('Sorry, that is not an option. Please only enter 1, 2, or 3.') \n",
    "\n",
    "        if activation == 'N':\n",
    "            print('See you later.')\n",
    "            break\n",
    "    \n",
    "\n",
    "        else:\n",
    "            print('Sorry, we did not get that. Please enter Y or N.')\n",
    "        "
   ]
  },
  {
   "cell_type": "code",
   "execution_count": 23,
   "metadata": {},
   "outputs": [
    {
     "name": "stdout",
     "output_type": "stream",
     "text": [
      "Would you like to play Tic-Tac-Toe? Input Y or N.y\n",
      "Yay!\n",
      "It is now Player 1's turn. They are 'X'.\n",
      "['r1c1', 'r1c2', 'r1c3']\n",
      "['r2c1', 'r2c2', 'r2c3']\n",
      "['r3c1', 'r2c2', 'r3c3']\n",
      "Which row would you like to edit? Enter 1, 2, or 3.asdf\n",
      "Sorry, that is not an option. Please only enter 1, 2, or 3.\n",
      "It is now Player 1's turn. They are 'X'.\n",
      "['r1c1', 'r1c2', 'r1c3']\n",
      "['r2c1', 'r2c2', 'r2c3']\n",
      "['r3c1', 'r2c2', 'r3c3']\n",
      "Which row would you like to edit? Enter 1, 2, or 3.3\n",
      "Which column would you like to edit? Enter 1, 2, or 3.\n",
      "Sorry, please re-enter your inputs.\n",
      "It is now Player 1's turn. They are 'X'.\n",
      "['r1c1', 'r1c2', 'r1c3']\n",
      "['r2c1', 'r2c2', 'r2c3']\n",
      "['r3c1', 'r2c2', 'r3c3']\n",
      "Which row would you like to edit? Enter 1, 2, or 3.3\n",
      "Which column would you like to edit? Enter 1, 2, or 3.3\n",
      "['r1c1', 'r1c2', 'r1c3']\n",
      "['r2c1', 'r2c2', 'r2c3']\n",
      "['r3c1', 'r2c2', 'X']\n",
      "It is now Player 2's turn. They are 'O'.\n",
      "['r1c1', 'r1c2', 'r1c3']\n",
      "['r2c1', 'r2c2', 'r2c3']\n",
      "['r3c1', 'r2c2', 'X']\n",
      "Which row would you like to edit? Enter 1, 2, or 3.3\n",
      "Which column would you like to edit? Enter 1, 2, or 3.6\n"
     ]
    },
    {
     "ename": "IndexError",
     "evalue": "list index out of range",
     "output_type": "error",
     "traceback": [
      "\u001b[1;31m---------------------------------------------------------------------------\u001b[0m",
      "\u001b[1;31mIndexError\u001b[0m                                Traceback (most recent call last)",
      "\u001b[1;32m<ipython-input-23-d332e3bc2730>\u001b[0m in \u001b[0;36m<module>\u001b[1;34m()\u001b[0m\n\u001b[1;32m----> 1\u001b[1;33m \u001b[0mmain_game\u001b[0m\u001b[1;33m(\u001b[0m\u001b[1;33m)\u001b[0m\u001b[1;33m\u001b[0m\u001b[0m\n\u001b[0m",
      "\u001b[1;32m<ipython-input-22-d5f334aae006>\u001b[0m in \u001b[0;36mmain_game\u001b[1;34m()\u001b[0m\n\u001b[0;32m    106\u001b[0m                                     \u001b[0mbagel\u001b[0m \u001b[1;33m=\u001b[0m \u001b[1;36m1\u001b[0m\u001b[1;33m\u001b[0m\u001b[0m\n\u001b[0;32m    107\u001b[0m                             \u001b[1;32mif\u001b[0m \u001b[0mrow_edit\u001b[0m \u001b[1;33m==\u001b[0m \u001b[1;36m3\u001b[0m\u001b[1;33m:\u001b[0m\u001b[1;33m\u001b[0m\u001b[0m\n\u001b[1;32m--> 108\u001b[1;33m                                 \u001b[1;32mif\u001b[0m \u001b[0mrow3\u001b[0m\u001b[1;33m[\u001b[0m\u001b[0mcolumn_edit\u001b[0m\u001b[1;33m-\u001b[0m\u001b[1;36m1\u001b[0m\u001b[1;33m]\u001b[0m \u001b[1;33m==\u001b[0m \u001b[1;34m'X'\u001b[0m\u001b[1;33m:\u001b[0m\u001b[1;33m\u001b[0m\u001b[0m\n\u001b[0m\u001b[0;32m    109\u001b[0m                                     \u001b[0mprint\u001b[0m\u001b[1;33m(\u001b[0m\u001b[1;34m'Value already filled.'\u001b[0m\u001b[1;33m)\u001b[0m\u001b[1;33m\u001b[0m\u001b[0m\n\u001b[0;32m    110\u001b[0m                                 \u001b[1;32melif\u001b[0m \u001b[0mrow3\u001b[0m\u001b[1;33m[\u001b[0m\u001b[0mcolumn_edit\u001b[0m\u001b[1;33m-\u001b[0m\u001b[1;36m1\u001b[0m\u001b[1;33m]\u001b[0m \u001b[1;33m==\u001b[0m \u001b[1;34m'O'\u001b[0m\u001b[1;33m:\u001b[0m\u001b[1;33m\u001b[0m\u001b[0m\n",
      "\u001b[1;31mIndexError\u001b[0m: list index out of range"
     ]
    }
   ],
   "source": [
    "main_game()"
   ]
  },
  {
   "cell_type": "code",
   "execution_count": null,
   "metadata": {
    "collapsed": true
   },
   "outputs": [],
   "source": []
  },
  {
   "cell_type": "code",
   "execution_count": null,
   "metadata": {
    "collapsed": true
   },
   "outputs": [],
   "source": []
  },
  {
   "cell_type": "code",
   "execution_count": null,
   "metadata": {
    "collapsed": true
   },
   "outputs": [],
   "source": []
  },
  {
   "cell_type": "code",
   "execution_count": null,
   "metadata": {
    "collapsed": true
   },
   "outputs": [],
   "source": []
  },
  {
   "cell_type": "code",
   "execution_count": null,
   "metadata": {
    "collapsed": true
   },
   "outputs": [],
   "source": []
  },
  {
   "cell_type": "code",
   "execution_count": null,
   "metadata": {
    "collapsed": true
   },
   "outputs": [],
   "source": []
  },
  {
   "cell_type": "code",
   "execution_count": null,
   "metadata": {
    "collapsed": true
   },
   "outputs": [],
   "source": []
  },
  {
   "cell_type": "code",
   "execution_count": null,
   "metadata": {
    "collapsed": true
   },
   "outputs": [],
   "source": []
  },
  {
   "cell_type": "code",
   "execution_count": null,
   "metadata": {
    "collapsed": true
   },
   "outputs": [],
   "source": []
  }
 ],
 "metadata": {
  "kernelspec": {
   "display_name": "Python 3",
   "language": "python",
   "name": "python3"
  },
  "language_info": {
   "codemirror_mode": {
    "name": "ipython",
    "version": 3
   },
   "file_extension": ".py",
   "mimetype": "text/x-python",
   "name": "python",
   "nbconvert_exporter": "python",
   "pygments_lexer": "ipython3",
   "version": "3.6.1"
  }
 },
 "nbformat": 4,
 "nbformat_minor": 2
}
